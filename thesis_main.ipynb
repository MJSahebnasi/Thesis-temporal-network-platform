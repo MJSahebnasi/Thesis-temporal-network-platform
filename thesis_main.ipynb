{
  "nbformat": 4,
  "nbformat_minor": 0,
  "metadata": {
    "colab": {
      "provenance": [],
      "authorship_tag": "ABX9TyPyuqGX6upeqcnjjtdL0AdW",
      "include_colab_link": true
    },
    "kernelspec": {
      "name": "python3",
      "display_name": "Python 3"
    },
    "language_info": {
      "name": "python"
    }
  },
  "cells": [
    {
      "cell_type": "markdown",
      "metadata": {
        "id": "view-in-github",
        "colab_type": "text"
      },
      "source": [
        "<a href=\"https://colab.research.google.com/github/MJSahebnasi/temporal-network-platform/blob/main/thesis_main.ipynb\" target=\"_parent\"><img src=\"https://colab.research.google.com/assets/colab-badge.svg\" alt=\"Open In Colab\"/></a>"
      ]
    },
    {
      "cell_type": "code",
      "execution_count": null,
      "metadata": {
        "id": "9zNMJeUhDjV-"
      },
      "outputs": [],
      "source": []
    },
    {
      "cell_type": "markdown",
      "source": [
        "# **Model**"
      ],
      "metadata": {
        "id": "ekIH6Hut-NED"
      }
    },
    {
      "cell_type": "code",
      "source": [
        "from typing import List\n",
        "\n",
        "class Event:\n",
        "  time: float\n",
        "\n",
        "class NodeEvent(Event):\n",
        "  node: int\n",
        "\n",
        "class NodeEntranceEvent(NodeEvent):\n",
        "  neighbors: List[int]\n",
        "  # need id (or other info) for edges?\n",
        "\n",
        "class NodeNaturalDeathEvent(NodeEvent):\n",
        "  pass\n",
        "\n",
        "class NodeAttackEvent(NodeEvent):\n",
        "  pass\n",
        "\n",
        "class NodeOnEvent(NodeEvent):\n",
        "  pass\n",
        "\n",
        "class NodeOffEvent(NodeEvent):\n",
        "  pass\n"
      ],
      "metadata": {
        "id": "scw2P57U-uY9"
      },
      "execution_count": 6,
      "outputs": []
    },
    {
      "cell_type": "code",
      "source": [
        "class Simulation:\n",
        "  pass"
      ],
      "metadata": {
        "id": "J7NEifA7-Sl6"
      },
      "execution_count": 1,
      "outputs": []
    }
  ]
}