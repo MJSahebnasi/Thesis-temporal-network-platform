{
  "nbformat": 4,
  "nbformat_minor": 0,
  "metadata": {
    "colab": {
      "provenance": [],
      "authorship_tag": "ABX9TyNyLvj/GfEAZbH5Q1MCivg/",
      "include_colab_link": true
    },
    "kernelspec": {
      "name": "python3",
      "display_name": "Python 3"
    },
    "language_info": {
      "name": "python"
    }
  },
  "cells": [
    {
      "cell_type": "markdown",
      "metadata": {
        "id": "view-in-github",
        "colab_type": "text"
      },
      "source": [
        "<a href=\"https://colab.research.google.com/github/MJSahebnasi/temporal-network-platform/blob/main/thesis_main.ipynb\" target=\"_parent\"><img src=\"https://colab.research.google.com/assets/colab-badge.svg\" alt=\"Open In Colab\"/></a>"
      ]
    },
    {
      "cell_type": "code",
      "execution_count": 4,
      "metadata": {
        "id": "9zNMJeUhDjV-"
      },
      "outputs": [],
      "source": [
        "import networkx as nx\n",
        "\n",
        "from typing import List, Type"
      ]
    },
    {
      "cell_type": "markdown",
      "source": [
        "# **Model**"
      ],
      "metadata": {
        "id": "ekIH6Hut-NED"
      }
    },
    {
      "cell_type": "markdown",
      "source": [
        "## Events"
      ],
      "metadata": {
        "id": "EYniFiteDFk0"
      }
    },
    {
      "cell_type": "code",
      "source": [
        "class Event:\n",
        "  def __init__(self, t) -> None:\n",
        "    self.time = t\n",
        "\n",
        "class NodeEvent(Event):\n",
        "  def __init__(self, t, node) -> None:\n",
        "    super().__init__(self, t)\n",
        "    self.node = node\n",
        "\n",
        "class NodeEntranceEvent(NodeEvent):\n",
        "  def __init__(self, t, node, neighbors) -> None:\n",
        "    super().__init__(self, t, node)\n",
        "    self.neighbors = neighbors\n",
        "\n",
        "  # need id (or other info) for edges?\n",
        "\n",
        "class NodeNaturalDeathEvent(NodeEvent):\n",
        "  def __init__(self, t, node) -> None:\n",
        "    super().__init__(self, t, node)\n",
        "\n",
        "class NodeAttackEvent(NodeEvent):\n",
        "  def __init__(self, t, node) -> None:\n",
        "    super().__init__(self, t, node)\n",
        "\n",
        "class NodeOnEvent(NodeEvent):\n",
        "  def __init__(self, t, node) -> None:\n",
        "    super().__init__(self, t, node)\n",
        "\n",
        "class NodeOffEvent(NodeEvent):\n",
        "  def __init__(self, t, node) -> None:\n",
        "    super().__init__(self, t, node)\n"
      ],
      "metadata": {
        "id": "scw2P57U-uY9"
      },
      "execution_count": 5,
      "outputs": []
    },
    {
      "cell_type": "markdown",
      "source": [
        "## Simulation"
      ],
      "metadata": {
        "id": "l3FTu9EKDK5A"
      }
    },
    {
      "cell_type": "code",
      "source": [
        "class Simulation:    \n",
        "\n",
        "  def create(self, G, simulation_duration):\n",
        "    self.G = G\n",
        "    self.duration = simulation_duration\n",
        "\n",
        "    self.has_entrance_process = False\n",
        "    self.entrance_process_duration = None\n",
        "    self.entrance_time_generator = None\n",
        "    # self.node_time_pairs = None\n",
        "\n",
        "    self.has_onoff_process = False\n",
        "    self.onoff_process_duration = None\n",
        "    self.on_time_generator = None\n",
        "    self.off_time_generator = None\n",
        "    # self.node_onoff_times_arrays\n",
        "\n",
        "    self.has_node_lifespan = False\n",
        "    self.lifespan_generator = None\n",
        "    # self.node_lifespan_pairs = None\n",
        "\n",
        "    self.has_attack_process = False\n",
        "    self.attack_time_generator = None\n",
        "    # self.attack_time_node_pairs = None\n",
        "    return self\n",
        "\n",
        "  def with_entrance_process(self, entrance_process_duration, entrance_time_generator):\n",
        "    ### TODO: parameter validation ###\n",
        "    self.has_entrance_process = True\n",
        "    self.entrance_process_duration = entrance_process_duration\n",
        "    self.entrance_time_generator = entrance_time_generator\n",
        "    return self\n",
        "\n",
        "  def with_node_onoff_process(self, onoff_process_duration, on_time_generator, off_time_generator):\n",
        "    ### TODO: parameter validation ###\n",
        "    self.has_onoff_process = True\n",
        "    self.onoff_process_duration = onoff_process_duration\n",
        "    self.on_time_generator = on_time_generator\n",
        "    self.off_time_generator = off_time_generator\n",
        "    return self\n",
        "\n",
        "  def with_node_lifespans(self, lifespan_generator):\n",
        "    ### TODO: parameter validation ###\n",
        "    self.has_node_lifespan = True\n",
        "    self.lifespan_generator = lifespan_generator\n",
        "    return self\n",
        "\n",
        "  def with_attack_process(self, attack_time_generator):\n",
        "    ### TODO: parameter validation ###\n",
        "    self.has_attack_process = True\n",
        "    self.attack_time_generator = attack_time_generator\n",
        "    return self\n",
        "  "
      ],
      "metadata": {
        "id": "J7NEifA7-Sl6"
      },
      "execution_count": 27,
      "outputs": []
    },
    {
      "cell_type": "code",
      "source": [
        "# s = Simulation().create('G', 100).with_attack_process('f').with_node_lifespans('f').with_entrance_process(10, 'f').with_node_onoff_process(30, 'f', 'g')"
      ],
      "metadata": {
        "id": "vXjcnZ5xyThV"
      },
      "execution_count": 29,
      "outputs": []
    }
  ]
}