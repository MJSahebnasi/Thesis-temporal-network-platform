{
  "nbformat": 4,
  "nbformat_minor": 0,
  "metadata": {
    "colab": {
      "provenance": [],
      "authorship_tag": "ABX9TyP5kfcZDPPhQKQwQMIlWUyq",
      "include_colab_link": true
    },
    "kernelspec": {
      "name": "python3",
      "display_name": "Python 3"
    },
    "language_info": {
      "name": "python"
    }
  },
  "cells": [
    {
      "cell_type": "markdown",
      "metadata": {
        "id": "view-in-github",
        "colab_type": "text"
      },
      "source": [
        "<a href=\"https://colab.research.google.com/github/MJSahebnasi/temporal-network-platform/blob/main/thesis_main.ipynb\" target=\"_parent\"><img src=\"https://colab.research.google.com/assets/colab-badge.svg\" alt=\"Open In Colab\"/></a>"
      ]
    },
    {
      "cell_type": "code",
      "execution_count": 1,
      "metadata": {
        "id": "9zNMJeUhDjV-"
      },
      "outputs": [],
      "source": [
        "import networkx as nx\n",
        "\n",
        "from typing import List, Type\n",
        "import abc\n",
        "\n",
        "import copy\n",
        "\n",
        "import heapq\n"
      ]
    },
    {
      "cell_type": "markdown",
      "source": [
        "# Events Model"
      ],
      "metadata": {
        "id": "EYniFiteDFk0"
      }
    },
    {
      "cell_type": "code",
      "source": [
        "class Event:\n",
        "  def __init__(self, t) -> None:\n",
        "    self.time = t\n",
        "    \n",
        "  def __repr__(self):\n",
        "    return \"<time:\" + str(self.time) + \">\"\n",
        "\n",
        "  # will be used in heap, when selecting the earliest event\n",
        "  def __lt__(self, other):\n",
        "    return self.time < other.time\n",
        "\n",
        "  @abc.abstractmethod\n",
        "  def execute(self, sim_G, orig_G, dead_and_attacked_nodes):\n",
        "    return\n",
        "\n",
        "class NodeEvent(Event):\n",
        "  def __init__(self, t, node) -> None:\n",
        "    super().__init__(t)\n",
        "    self.node = node\n",
        "\n",
        "  def __repr__(self):\n",
        "    return super().__repr__()[:-1] + \"-node:\"+str(self.node) + \">\"\n",
        "\n",
        "class NodeEntranceEvent(NodeEvent):\n",
        "  def __init__(self, t, node) -> None:\n",
        "    super().__init__(t, node)\n",
        "\n",
        "  def __repr__(self):\n",
        "    return super().__repr__()[:-1] + \"-entrance\" + \">\"\n",
        "\n",
        "  def execute(self, sim_G, orig_G, dead_and_attacked_nodes):\n",
        "    ### intentionally won't handle this scenario:\n",
        "    # if self.node in dead_and_attacked_nodes:\n",
        "    #   return\n",
        "    ###\n",
        "    sim_G.add_node(self.node)\n",
        "    edges = [(self.node, i) for i in _current_neighbors(sim_G, orig_G, self.node)]\n",
        "    sim_G.add_edges_from(edges)\n",
        "\n",
        "class NodeDeathEvent(NodeEvent):\n",
        "  def __init__(self, t, node) -> None:\n",
        "    super().__init__(t, node)\n",
        "\n",
        "  def __repr__(self):\n",
        "    return super().__repr__()[:-1] + \"-death\" + \">\"\n",
        "\n",
        "  def execute(self, sim_G, orig_G, dead_and_attacked_nodes):\n",
        "    # might already be off or attacked\n",
        "    if self.node in sim_G.nodes():\n",
        "      sim_G.remove_node(self.node)\n",
        "    # no matter the if, this must execute:\n",
        "    dead_and_attacked_nodes.add(self.node)\n",
        "\n",
        "class NodeAttackEvent(NodeEvent):\n",
        "  def __init__(self, t, node) -> None:\n",
        "    super().__init__(t, node)\n",
        "\n",
        "  def __repr__(self):\n",
        "    return super().__repr__()[:-1] + \"-attack\" + \">\"\n",
        "\n",
        "  def execute(self, sim_G, orig_G, dead_and_attacked_nodes):\n",
        "    # might already be off or dead\n",
        "    if self.node in sim_G.nodes():\n",
        "      sim_G.remove_node(self.node)\n",
        "    # no matter the if, this must execute:\n",
        "    dead_and_attacked_nodes.add(self.node)\n",
        "\n",
        "class NodeOnEvent(NodeEvent):\n",
        "  def __init__(self, t, node) -> None:\n",
        "    super().__init__(t, node)\n",
        "\n",
        "  def __repr__(self):\n",
        "    return super().__repr__()[:-1] + \"-on\" + \">\"\n",
        "\n",
        "  def execute(self, sim_G, orig_G, dead_and_attacked_nodes):\n",
        "    # the node might die or get attacked while off\n",
        "    if self.node in dead_and_attacked_nodes:\n",
        "      return\n",
        "    sim_G.add_node(self.node)\n",
        "    edges = [(self.node, i) for i in _current_neighbors(sim_G, orig_G, self.node)]\n",
        "    sim_G.add_edges_from(edges)\n",
        "\n",
        "class NodeOffEvent(NodeEvent):\n",
        "  def __init__(self, t, node) -> None:\n",
        "    super().__init__(t, node)\n",
        "\n",
        "  def __repr__(self):\n",
        "    return super().__repr__()[:-1] + \"-off\" + \">\"\n",
        "\n",
        "  def execute(self, sim_G, orig_G, dead_and_attacked_nodes):\n",
        "    # the node might be already dead or attacked\n",
        "    # instead of using \"dead_and_attacked_nodes\", I used \"nodes()\"\n",
        "    #   this way consecutive offs will be handled\n",
        "    if self.node in sim_G.nodes():\n",
        "      sim_G.remove_node(self.node)\n",
        "\n",
        "def _current_neighbors(sim_G, orig_G, node):\n",
        "  return set.intersection(set(sim_G.nodes()), set(orig_G.neighbors(node)))"
      ],
      "metadata": {
        "id": "scw2P57U-uY9"
      },
      "execution_count": 2,
      "outputs": []
    },
    {
      "cell_type": "markdown",
      "source": [
        "# Simulation"
      ],
      "metadata": {
        "id": "l3FTu9EKDK5A"
      }
    },
    {
      "cell_type": "code",
      "source": [
        "from numpy.ma.core import nonzero\n",
        "class Simulation:   \n",
        "\n",
        "  ########################## init ##########################\n",
        "\n",
        "  def create(self, G):\n",
        "    self.orig_G = G\n",
        "    self.sim_G = copy.deepcopy(G)\n",
        "    self.dead_and_attacked_nodes = set() # not off nodes\n",
        "\n",
        "    self.has_entrance_process = False\n",
        "    self.has_onoff_process = False\n",
        "    self.has_node_lifespan = False\n",
        "    self.has_attack_process = False\n",
        "\n",
        "    self.events = []\n",
        "    \n",
        "    self.snapshots = []\n",
        "    self.snapshot_times = []\n",
        "\n",
        "    return self\n",
        "\n",
        "  def with_entrance_process(self, node_entrance_times):\n",
        "    ### TODO: parameter validation ###\n",
        "    self.has_entrance_process = True\n",
        "    self.node_entrance_times = node_entrance_times\n",
        "    return self\n",
        "\n",
        "  def with_node_onoff_process(self, node_on_times, node_off_times):\n",
        "    ### TODO: parameter validation ###\n",
        "    self.has_onoff_process = True\n",
        "    self.node_on_times = node_on_times\n",
        "    self.node_off_times = node_off_times\n",
        "    return self\n",
        "\n",
        "  def with_node_lifespans(self, node_death_times):\n",
        "    ### TODO: parameter validation ###\n",
        "    self.has_node_lifespan = True\n",
        "    self.node_death_times = node_death_times\n",
        "    return self\n",
        "\n",
        "  def with_attack_process(self, node_attack_times):\n",
        "    \"\"\"\n",
        "    If you don't want a node to be attacked, just set a NEGATIVE attack time for it.\n",
        "    example:\n",
        "    [10, -1, -1, 13]\n",
        "    The 2nd and the 3rd node will not be attacked.\n",
        "    \"\"\"\n",
        "    ### TODO: parameter validation ###\n",
        "    self.has_attack_process = True\n",
        "    self.node_attack_times = node_attack_times\n",
        "    return self\n",
        "\n",
        "\n",
        "  ########################## input validation ##########################\n",
        "\n",
        "\n",
        "  def __entrance_input_validation(self):\n",
        "    if len(self.node_entrance_times) != self.orig_G.number_of_nodes():\n",
        "      raise ValueError('!!! len(node_entrance_times) & the number of nodes not the same !!!')\n",
        "\n",
        "  def __onoff_input_validation(self):\n",
        "    n = self.orig_G.number_of_nodes()\n",
        "    if len(self.node_on_times) != n:\n",
        "      raise ValueError('!!! len(node_on_times) & the number of nodes not the same !!!')\n",
        "    if len(self.node_off_times) != n:\n",
        "      raise ValueError('!!! len(node_off_times) & the number of nodes not the same !!!')\n",
        "\n",
        "  def __death_input_validation(self):\n",
        "    if len(self.node_death_times) != self.orig_G.number_of_nodes():\n",
        "      raise ValueError('!!! len(node_death_times) & the number of nodes not the same !!!')\n",
        "\n",
        "\n",
        "  def __attack_input_validation(self):\n",
        "    if len(self.node_attack_times) != self.orig_G.number_of_nodes():\n",
        "      raise ValueError('!!! len(node_attack_times) & the number of nodes not the same !!!')\n",
        "\n",
        "\n",
        "  ########################## prepair events ##########################\n",
        "\n",
        "\n",
        "  def create_entrance_events(self):\n",
        "\n",
        "    self.__entrance_input_validation()\n",
        "\n",
        "    n = self.orig_G.number_of_nodes()\n",
        "    nodes = list(self.orig_G.nodes())\n",
        "    self.sim_G = nx.Graph()\n",
        "\n",
        "    for i in range(n):\n",
        "      node = nodes[i]\n",
        "      e = NodeEntranceEvent(self.node_entrance_times[i], node)\n",
        "      self.events.append(e)\n",
        "\n",
        "  def create_onoff_events(self):\n",
        "\n",
        "    self.__onoff_input_validation()\n",
        "\n",
        "    n = self.orig_G.number_of_nodes()\n",
        "    nodes = list(self.orig_G.nodes())\n",
        "\n",
        "    for i in range(n):\n",
        "      node = nodes[i]\n",
        "      for t in self.node_on_times[i]:\n",
        "        e = NodeOnEvent(t, node)\n",
        "        self.events.append(e)\n",
        "      for t in self.node_off_times[i]:\n",
        "        e = NodeOffEvent(t, node)\n",
        "        self.events.append(e)\n",
        "\n",
        "  def create_death_events(self):\n",
        "\n",
        "    self.__death_input_validation()\n",
        "\n",
        "    n = self.orig_G.number_of_nodes()\n",
        "    nodes = list(self.orig_G.nodes())\n",
        "\n",
        "    for i in range(n):\n",
        "      node = nodes[i]\n",
        "      e = NodeDeathEvent(self.node_death_times[i], node)\n",
        "      self.events.append(e)\n",
        "\n",
        "  def create_attack_events(self):\n",
        "\n",
        "    self.__attack_input_validation()\n",
        "\n",
        "    n = self.orig_G.number_of_nodes()\n",
        "    nodes = list(self.orig_G.nodes())\n",
        "\n",
        "    for i in range(n):\n",
        "      node = nodes[i]\n",
        "      t = self.node_attack_times[i]\n",
        "\n",
        "      if t < 0:\n",
        "        continue\n",
        "\n",
        "      e = NodeAttackEvent(t, node)\n",
        "      self.events.append(e)\n",
        "\n",
        "  def prepair_events(self):\n",
        "    if self.has_entrance_process:\n",
        "      self.create_entrance_events()\n",
        "\n",
        "    if self.has_onoff_process:\n",
        "      self.create_onoff_events()\n",
        "\n",
        "    if self.has_node_lifespan:\n",
        "      self.create_death_events()\n",
        "\n",
        "    if self.has_attack_process:\n",
        "      self.create_attack_events()\n",
        "\n",
        "    heapq.heapify(self.events)\n",
        "\n",
        "\n",
        "  ########################## run ##########################\n",
        "\n",
        "\n",
        "  def take_snapshots(self, time):\n",
        "    # print('t:', time)\n",
        "    while self.snapshot_times and self.snapshot_times[-1] < time: # cannot be <=\n",
        "      t = self.snapshot_times.pop()\n",
        "      g = copy.deepcopy(self.sim_G)\n",
        "      self.snapshots.append(g)\n",
        "\n",
        "  def run(self, snapshot_times=[]):\n",
        "    \"\"\"\n",
        "    snapshot_times: optional arg\n",
        "      if provided, must be a sorted (ascending) list of times (could be float or int)\n",
        "      times greater than the simulation duration will be ignored\n",
        "    \"\"\"\n",
        "\n",
        "    if snapshot_times:\n",
        "      self.snapshot_times = copy.deepcopy(snapshot_times)\n",
        "      self.snapshot_times.reverse() # so that we can just pop the smallest time, no shift\n",
        "\n",
        "    self.prepair_events()\n",
        "\n",
        "    sim_time = 0\n",
        "    \n",
        "    while len(self.events) > 0:\n",
        "\n",
        "      e = heapq.heappop(self.events)\n",
        "\n",
        "      # print('e t:', e.time)\n",
        "      # print('s t:', sim_time)\n",
        "      if e.time > sim_time:\n",
        "        if self.snapshot_times:\n",
        "          self.take_snapshots(e.time)\n",
        "        # print('snapshots:', self.snapshots)\n",
        "        # print('snapshot times:', self.snapshot_times)\n",
        "\n",
        "      e.execute(self.sim_G, self.orig_G, self.dead_and_attacked_nodes)\n",
        "\n",
        "      sim_time = e.time\n",
        "\n",
        "      # print(e)\n",
        "      # print(self.sim_G)\n",
        "      # print('dead nodes', self.dead_and_attacked_nodes)\n",
        "      # print('nodes', self.sim_G.nodes())\n",
        "      # print('edges', self.sim_G.edges())\n",
        "      # print('----------------')\n",
        "\n",
        "    # taking the remaining snapshots, after the last event (equal to the final self.sim_G)\n",
        "    for t in self.snapshot_times:\n",
        "      self.snapshots.append(copy.deepcopy(self.sim_G))\n",
        "    \n",
        "    return self.sim_G, self.snapshots"
      ],
      "metadata": {
        "id": "J7NEifA7-Sl6"
      },
      "execution_count": 3,
      "outputs": []
    },
    {
      "cell_type": "code",
      "source": [
        "# has good things in it\n",
        "# like death after attack\n",
        "G = nx.erdos_renyi_graph(n=3,p=0.7)\n",
        "ent = [0, 1, 2]\n",
        "dth = [10, 50, 55]\n",
        "atk = [8.5, -1, -1]\n",
        "off = [[3], [10, 20], []]\n",
        "on  = [[5], [12.5], []]\n",
        "\n",
        "snp_t = [0, 1, 2, 4, 5, 6.5, 54, 55, 56]\n",
        "\n",
        "s = Simulation().create(G).with_entrance_process(ent).with_node_lifespans(dth).with_attack_process(atk).with_node_onoff_process(on, off)\n",
        "res, snaps = s.run(snapshot_times = snp_t)"
      ],
      "metadata": {
        "id": "xv3t8oYSdt78"
      },
      "execution_count": 4,
      "outputs": []
    },
    {
      "cell_type": "code",
      "source": [
        "# print('in:')\n",
        "# print(G)\n",
        "# print(G.nodes())\n",
        "# print(G.edges())\n",
        "# print('*********')\n",
        "# print('res:')\n",
        "# print(res)\n",
        "# print(res.nodes())\n",
        "# print(res.edges())\n",
        "# print('*********')\n",
        "# print(len(snaps))\n",
        "# print(len(snp_t))\n",
        "# print('*********')\n",
        "# for i in range(len(snaps)):\n",
        "#   g = snaps[i]\n",
        "#   t = snp_t[i]\n",
        "#   print(i)\n",
        "#   print('t:', t)\n",
        "#   print(g)\n",
        "#   print(g.nodes())\n",
        "#   print(g.edges())\n",
        "#   print('-------')"
      ],
      "metadata": {
        "id": "lAj3VzjCGIu3"
      },
      "execution_count": 5,
      "outputs": []
    },
    {
      "cell_type": "markdown",
      "source": [
        "# Diagram Package"
      ],
      "metadata": {
        "id": "wbsZWI7pXqPV"
      }
    },
    {
      "cell_type": "code",
      "source": [
        "import matplotlib.pyplot as plt\n",
        "import numpy as np\n",
        "\n",
        "def plot_degree_distribution(G):\n",
        "  degree_distrib = nx.degree_histogram(G)\n",
        "  x = range(len(degree_distrib))\n",
        "\n",
        "  plt.figure()\n",
        "\n",
        "  plt.plot(x, degree_distrib, marker='o')\n",
        "  title = 'degree distribution'\n",
        "  plt.title(title)\n",
        "  plt.grid()\n",
        "  plt.xticks(x)\n",
        "  plt.yticks(np.arange(np.min(degree_distrib), np.max(degree_distrib) + 1, 1))\n",
        "  plt.xlabel('degree')\n",
        "  plt.ylabel('nodes count')\n",
        "  plt.tick_params(labelrotation=45)\n",
        "\n",
        "  plt.show()\n",
        "\n",
        "\n",
        "def plot_onoff_graph(sim_G, orig_G):\n",
        "  nx.draw_circular(orig_G)\n",
        "  nx.draw_circular(sim_G)\n",
        "  "
      ],
      "metadata": {
        "id": "268C3z8rXvy1"
      },
      "execution_count": 6,
      "outputs": []
    },
    {
      "cell_type": "code",
      "source": [
        "plot_degree_distribution(G)"
      ],
      "metadata": {
        "id": "FN3D3WP3aXCp",
        "outputId": "3a8067e1-76f5-454f-895a-a8414e294d90",
        "colab": {
          "base_uri": "https://localhost:8080/",
          "height": 297
        }
      },
      "execution_count": 7,
      "outputs": [
        {
          "output_type": "display_data",
          "data": {
            "text/plain": [
              "<Figure size 432x288 with 1 Axes>"
            ],
            "image/png": "[encoded data removed]"
          },
          "metadata": {
            "needs_background": "light"
          }
        }
      ]
    },
    {
      "cell_type": "markdown",
      "source": [
        "# Data Generator Package"
      ],
      "metadata": {
        "id": "TJOmFzLv24HX"
      }
    },
    {
      "cell_type": "code",
      "source": [
        "def poisson_process(landa, max_time):\n",
        "  \"\"\"\n",
        "  returns a list of numbers (times, float) based on Poisson Process\n",
        "  landa: exponential distribution's parameter\n",
        "  max_time: the times in the returned list will not exceed max_time\n",
        "  \"\"\"\n",
        "  pass"
      ],
      "metadata": {
        "id": "QaRlTK_i3CDV"
      },
      "execution_count": 8,
      "outputs": []
    },
    {
      "cell_type": "code",
      "source": [
        "import math\n",
        "\n",
        "def onoff_data_generator(on_durations, off_durations, start_time=0, max_time=math.inf):\n",
        "  \"\"\"\n",
        "  input:\n",
        "    example:\n",
        "    1. on_durations = [ [3, 4], [10] ]\n",
        "      -> node0 has 2 <on periods>, which last 3 and 4 time units\n",
        "      -> node1 has 1 <on period>, which lasts 10 time units\n",
        "    2. off_durations is the same\n",
        "    ### both on_durations and off_durations must have the same length\n",
        "    3. start_time: on/off durations will be added to this (events will happen after this time)\n",
        "    4. max_time: on/off event times will not exceed max_time (remaining on/off durations will be ignored)\n",
        "  how it works:\n",
        "    I assume all nodes are <on> first.\n",
        "    For each node, takes the first <on> duration, so the end of it will be the first <off> event's time;\n",
        "    then adds the first <off duration> to the time, which gives us the first <on> event's time. And keeps\n",
        "    doing this until we run out of either <on duration>s or <off duration>s.\n",
        "  retuens:\n",
        "    on_times: times a node becomes online, for each node\n",
        "    off_times: times a node becomes offline, for each node\n",
        "     -> the same format that with_onoff_process() requires\n",
        "    example:\n",
        "    on_times= [[1,3,4], []]\n",
        "    off_times = [[2,3.5], [1]]\n",
        "      -> node0 events: 1:on, 2:off, 3:on, 3.5:off, 4:on\n",
        "      -> node1 events: 1:off\n",
        "  \"\"\"\n",
        "\n",
        "  if len(on_durations) != len(off_durations):\n",
        "    raise ValueError('!!! len(on_durations) and len(off_durations) must be the same !!!')\n",
        "  \n",
        "  n = len(on_durations)\n",
        "\n",
        "  on_times = [[] for i in range(n)]\n",
        "  off_times = [[] for i in range(n)]\n",
        "\n",
        "  for node_id in range(n):\n",
        "    i_on = 0\n",
        "    i_off = 0\n",
        "    t = start_time\n",
        "    while True:\n",
        "      if i_on < len(on_durations[node_id]):\n",
        "        off_event_time = t + on_durations[node_id][i_on]\n",
        "        if off_event_time < max_time:\n",
        "          off_times[node_id].append(off_event_time)\n",
        "          t = off_event_time\n",
        "          i_on += 1\n",
        "        else:\n",
        "          off_times[node_id].append(max_time)\n",
        "          break\n",
        "      else:\n",
        "        break\n",
        "      if i_off < len(off_durations[node_id]):\n",
        "        on_event_time = t + off_durations[node_id][i_off]\n",
        "        if off_event_time < max_time:\n",
        "          on_times[node_id].append(on_event_time)\n",
        "          t = on_event_time\n",
        "          i_off += 1\n",
        "        else:\n",
        "          on_times[node_id].append(max_time)\n",
        "          break\n",
        "      else:\n",
        "        break\n",
        "  \n",
        "  return on_times, off_times"
      ],
      "metadata": {
        "id": "f9IwCLbO13F1"
      },
      "execution_count": 17,
      "outputs": []
    },
    {
      "cell_type": "code",
      "source": [
        "# test\n",
        "on_d = [[1, 1, 0.5, 2], [2, 0], [1]]\n",
        "of_d = [[1, 3],         [1, 1, 2], []]\n",
        "\n",
        "# node0: 1:off, 2:on, 3:off, 6:on, 6.5:off\n",
        "# node1: 2:off, 3:on, 3:off, 4:on\n",
        "# node2: 1:off\n",
        "\n",
        "on_t, of_t = onoff_data_generator(on_d, of_d)\n",
        "print('on:', on_t)\n",
        "print('off:', of_t)"
      ],
      "metadata": {
        "id": "fjb-MdSQCW7r",
        "outputId": "c190a653-d926-49a8-fc08-e4501983a976",
        "colab": {
          "base_uri": "https://localhost:8080/"
        }
      },
      "execution_count": 19,
      "outputs": [
        {
          "output_type": "stream",
          "name": "stdout",
          "text": [
            "on: [[2, 6], [3, 4], []]\n",
            "off: [[1, 3, 6.5], [2, 3], [1]]\n"
          ]
        }
      ]
    },
    {
      "cell_type": "markdown",
      "source": [
        "# Scenario: SW, SF"
      ],
      "metadata": {
        "id": "mQZ7UC2atUVc"
      }
    },
    {
      "cell_type": "markdown",
      "source": [
        "## functions"
      ],
      "metadata": {
        "id": "3zlYA4Jsyh0j"
      }
    },
    {
      "cell_type": "code",
      "source": [
        "def OnOFF_Scenario_A(G, snp_t):\n",
        "\n",
        "  \n",
        "\n",
        "  s = Simulation().create(G).with_node_onoff_process(on, off)\n",
        "  res, snaps = s.run(snapshot_times = snp_t)\n",
        "  plot_onoff_graph(sim_G, G)"
      ],
      "metadata": {
        "id": "0P1ZGWYbv2wf"
      },
      "execution_count": 9,
      "outputs": []
    },
    {
      "cell_type": "markdown",
      "source": [
        "## results"
      ],
      "metadata": {
        "id": "imv-JJfqykXV"
      }
    },
    {
      "cell_type": "code",
      "source": [
        "n = 100\n",
        "k = 10 \n",
        "p = 0.3\n",
        "\n",
        "G_SW_A = nx.watts_strogatz_graph(n, k, p)\n",
        "\n",
        "landa = 0.005\n",
        "mue_1 = 0.005\n",
        "mue_2 = 0.01\n",
        "\n",
        "\n",
        "\n",
        "OnOFF_Scenario_A(G_SW_A)\n"
      ],
      "metadata": {
        "colab": {
          "base_uri": "https://localhost:8080/",
          "height": 209
        },
        "id": "NyJsjh27tZ-f",
        "outputId": "2ccc2da3-a8a0-4066-b592-1eb20f399ee0"
      },
      "execution_count": 10,
      "outputs": [
        {
          "output_type": "error",
          "ename": "TypeError",
          "evalue": "ignored",
          "traceback": [
            "\u001b[0;31m---------------------------------------------------------------------------\u001b[0m",
            "\u001b[0;31mTypeError\u001b[0m                                 Traceback (most recent call last)",
            "\u001b[0;32m<ipython-input-10-d02313dcf488>\u001b[0m in \u001b[0;36m<module>\u001b[0;34m\u001b[0m\n\u001b[1;32m     11\u001b[0m \u001b[0;34m\u001b[0m\u001b[0m\n\u001b[1;32m     12\u001b[0m \u001b[0;34m\u001b[0m\u001b[0m\n\u001b[0;32m---> 13\u001b[0;31m \u001b[0mOnOFF_Scenario_A\u001b[0m\u001b[0;34m(\u001b[0m\u001b[0mG_SW_A\u001b[0m\u001b[0;34m)\u001b[0m\u001b[0;34m\u001b[0m\u001b[0;34m\u001b[0m\u001b[0m\n\u001b[0m",
            "\u001b[0;31mTypeError\u001b[0m: OnOFF_Scenario_A() missing 1 required positional argument: 'snp_t'"
          ]
        }
      ]
    }
  ]
}