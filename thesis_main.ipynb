{
  "nbformat": 4,
  "nbformat_minor": 0,
  "metadata": {
    "colab": {
      "provenance": [],
      "authorship_tag": "ABX9TyPxDAj0f8uIgYv0m4vzBylG",
      "include_colab_link": true
    },
    "kernelspec": {
      "name": "python3",
      "display_name": "Python 3"
    },
    "language_info": {
      "name": "python"
    }
  },
  "cells": [
    {
      "cell_type": "markdown",
      "metadata": {
        "id": "view-in-github",
        "colab_type": "text"
      },
      "source": [
        "<a href=\"https://colab.research.google.com/github/MJSahebnasi/temporal-network-platform/blob/main/thesis_main.ipynb\" target=\"_parent\"><img src=\"https://colab.research.google.com/assets/colab-badge.svg\" alt=\"Open In Colab\"/></a>"
      ]
    },
    {
      "cell_type": "code",
      "execution_count": null,
      "metadata": {
        "id": "9zNMJeUhDjV-"
      },
      "outputs": [],
      "source": [
        "import networkx as nx\n",
        "\n",
        "from typing import List, Type"
      ]
    },
    {
      "cell_type": "markdown",
      "source": [
        "# **Model**"
      ],
      "metadata": {
        "id": "ekIH6Hut-NED"
      }
    },
    {
      "cell_type": "markdown",
      "source": [
        "## Events"
      ],
      "metadata": {
        "id": "EYniFiteDFk0"
      }
    },
    {
      "cell_type": "code",
      "source": [
        "class Event:\n",
        "  def __init__(self, t) -> None:\n",
        "    self.time = t\n",
        "\n",
        "class NodeEvent(Event):\n",
        "  def __init__(self, t, node) -> None:\n",
        "    super().__init__(self, t)\n",
        "    self.node = node\n",
        "\n",
        "class NodeEntranceEvent(NodeEvent):\n",
        "  def __init__(self, t, node, neighbors) -> None:\n",
        "    super().__init__(self, t, node)\n",
        "    self.neighbors = neighbors\n",
        "\n",
        "  # need id (or other info) for edges?\n",
        "\n",
        "class NodeNaturalDeathEvent(NodeEvent):\n",
        "  def __init__(self, t, node) -> None:\n",
        "    super().__init__(self, t, node)\n",
        "\n",
        "class NodeAttackEvent(NodeEvent):\n",
        "  def __init__(self, t, node) -> None:\n",
        "    super().__init__(self, t, node)\n",
        "\n",
        "class NodeOnEvent(NodeEvent):\n",
        "  def __init__(self, t, node) -> None:\n",
        "    super().__init__(self, t, node)\n",
        "\n",
        "class NodeOffEvent(NodeEvent):\n",
        "  def __init__(self, t, node) -> None:\n",
        "    super().__init__(self, t, node)\n"
      ],
      "metadata": {
        "id": "scw2P57U-uY9"
      },
      "execution_count": null,
      "outputs": []
    },
    {
      "cell_type": "markdown",
      "source": [
        "## Simulation"
      ],
      "metadata": {
        "id": "l3FTu9EKDK5A"
      }
    },
    {
      "cell_type": "code",
      "source": [
        "class Simulation:    \n",
        "\n",
        "  def create(self, G, simulation_duration):\n",
        "    self.G = G\n",
        "    self.duration = simulation_duration\n",
        "\n",
        "    self.has_entrance_process = False\n",
        "    self.has_onoff_process = False\n",
        "    self.has_node_lifespan = False\n",
        "    self.has_attack_process = False\n",
        "    \n",
        "    return self\n",
        "\n",
        "  def with_entrance_process(self, entrance_process_duration, entrance_time_generator, entrance_time_generator_args_dict):\n",
        "    ### TODO: parameter validation ###\n",
        "    self.has_entrance_process = True\n",
        "    self.entrance_process_duration = entrance_process_duration\n",
        "    self.entrance_time_generator = entrance_time_generator\n",
        "    self.entrance_time_generator_args_dict = entrance_time_generator_args_dict\n",
        "    return self\n",
        "\n",
        "  def with_node_onoff_process(self, onoff_process_duration, on_time_generator, on_time_generator_args_dict, off_time_generator, off_time_generator_args_dict):\n",
        "    ### TODO: parameter validation ###\n",
        "    self.has_onoff_process = True\n",
        "    self.onoff_process_duration = onoff_process_duration\n",
        "    self.on_time_generator = on_time_generator\n",
        "    self.on_time_generator_args_dict = on_time_generator_args_dict\n",
        "    self.off_time_generator = off_time_generator\n",
        "    self.off_time_generator_args_dict = off_time_generator_args_dict\n",
        "    return self\n",
        "\n",
        "  def with_node_lifespans(self, lifespan_generator, lifespan_generator_args_dict):\n",
        "    ### TODO: parameter validation ###\n",
        "    self.has_node_lifespan = True\n",
        "    self.lifespan_generator = lifespan_generator\n",
        "    self.lifespan_generator_args_dict = lifespan_generator_args_dict\n",
        "    return self\n",
        "\n",
        "  def with_attack_process(self, attack_time_generator, attack_time_generator_args_dict):\n",
        "    ### TODO: parameter validation ###\n",
        "    self.has_attack_process = True\n",
        "    self.attack_time_generator = attack_time_generator\n",
        "    self.attack_time_generator_args_dict = attack_time_generator_args_dict\n",
        "    return self\n",
        "  "
      ],
      "metadata": {
        "id": "J7NEifA7-Sl6"
      },
      "execution_count": 2,
      "outputs": []
    },
    {
      "cell_type": "code",
      "source": [
        "at = {}\n",
        "li = {'a':3}\n",
        "en = {'asd':3, 'sdaa':3}\n",
        "on = {}\n",
        "of = {}\n",
        "s = Simulation().create('G', 100).with_attack_process('f', at).with_node_lifespans('f', li).with_entrance_process(10, 'f', en).with_node_onoff_process(30, 'f', on, 'g', of)"
      ],
      "metadata": {
        "id": "vXjcnZ5xyThV"
      },
      "execution_count": 3,
      "outputs": []
    }
  ]
}