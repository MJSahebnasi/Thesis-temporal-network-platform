{
  "nbformat": 4,
  "nbformat_minor": 0,
  "metadata": {
    "colab": {
      "provenance": [],
      "authorship_tag": "ABX9TyM5X7im2R5PE95M8+Euxkxt",
      "include_colab_link": true
    },
    "kernelspec": {
      "name": "python3",
      "display_name": "Python 3"
    },
    "language_info": {
      "name": "python"
    }
  },
  "cells": [
    {
      "cell_type": "markdown",
      "metadata": {
        "id": "view-in-github",
        "colab_type": "text"
      },
      "source": [
        "<a href=\"https://colab.research.google.com/github/MJSahebnasi/temporal-network-platform/blob/main/thesis_main.ipynb\" target=\"_parent\"><img src=\"https://colab.research.google.com/assets/colab-badge.svg\" alt=\"Open In Colab\"/></a>"
      ]
    },
    {
      "cell_type": "code",
      "execution_count": 3,
      "metadata": {
        "id": "9zNMJeUhDjV-"
      },
      "outputs": [],
      "source": [
        "import networkx as nx\n",
        "\n",
        "from typing import List, Type\n",
        "\n",
        "import copy"
      ]
    },
    {
      "cell_type": "markdown",
      "source": [
        "# **Model**"
      ],
      "metadata": {
        "id": "ekIH6Hut-NED"
      }
    },
    {
      "cell_type": "markdown",
      "source": [
        "## Events"
      ],
      "metadata": {
        "id": "EYniFiteDFk0"
      }
    },
    {
      "cell_type": "code",
      "source": [
        "class Event:\n",
        "  def __init__(self, t) -> None:\n",
        "    self.time = t\n",
        "    \n",
        "  def __repr__(self):\n",
        "    return \"<time: \"+str(self.time)+\">\"\n",
        "\n",
        "class NodeEvent(Event):\n",
        "  def __init__(self, t, node) -> None:\n",
        "    super().__init__(t)\n",
        "    self.node = node\n",
        "\n",
        "  def __repr__(self):\n",
        "    return super().__repr__()[:-1] + \" - node: \"+str(self.node) + \">\"\n",
        "\n",
        "class NodeEntranceEvent(NodeEvent):\n",
        "  def __init__(self, t, node, neighbors) -> None:\n",
        "    super().__init__(t, node)\n",
        "    self.neighbors = neighbors\n",
        "\n",
        "  def __repr__(self):\n",
        "    return super().__repr__()[:-1] + \" - entrance\" + \">\"\n",
        "\n",
        "  # need id (or other info) for edges?\n",
        "\n",
        "class NodeNaturalDeathEvent(NodeEvent):\n",
        "  def __init__(self, t, node) -> None:\n",
        "    super().__init__(t, node)\n",
        "\n",
        "class NodeAttackEvent(NodeEvent):\n",
        "  def __init__(self, t, node) -> None:\n",
        "    super().__init__(t, node)\n",
        "\n",
        "class NodeOnEvent(NodeEvent):\n",
        "  def __init__(self, t, node) -> None:\n",
        "    super().__init__(t, node)\n",
        "\n",
        "class NodeOffEvent(NodeEvent):\n",
        "  def __init__(self, t, node) -> None:\n",
        "    super().__init__(t, node)\n"
      ],
      "metadata": {
        "id": "scw2P57U-uY9"
      },
      "execution_count": 30,
      "outputs": []
    },
    {
      "cell_type": "markdown",
      "source": [
        "## Simulation"
      ],
      "metadata": {
        "id": "l3FTu9EKDK5A"
      }
    },
    {
      "cell_type": "code",
      "source": [
        "class Simulation:   \n",
        "\n",
        "  ########################## init ##########################\n",
        "\n",
        "  def create(self, G):\n",
        "    self.orig_G = G\n",
        "    self.sim_G = copy.deepcopy(G)\n",
        "\n",
        "    self.has_entrance_process = False\n",
        "    self.has_onoff_process = False\n",
        "    self.has_node_lifespan = False\n",
        "    self.has_attack_process = False\n",
        "\n",
        "    self.events = []\n",
        "    # self.history = []\n",
        "    # self.snapshots = []\n",
        "\n",
        "    return self\n",
        "\n",
        "  def with_entrance_process(self, node_entrance_times):\n",
        "    ### TODO: parameter validation ###\n",
        "    self.has_entrance_process = True\n",
        "    self.node_entrance_times = node_entrance_times\n",
        "    return self\n",
        "\n",
        "  def with_node_onoff_process(self, node_on_times, node_off_times):\n",
        "    ### TODO: parameter validation ###\n",
        "    self.has_onoff_process = True\n",
        "    self.node_on_times = node_on_times\n",
        "    self.node_off_times = node_off_times\n",
        "    return self\n",
        "\n",
        "  def with_node_lifespans(self, node_death_times):\n",
        "    ### TODO: parameter validation ###\n",
        "    self.has_node_lifespan = True\n",
        "    self.node_death_times = node_death_times\n",
        "    return self\n",
        "\n",
        "  def with_attack_process(self, node_attack_times):\n",
        "    ### TODO: parameter validation ###\n",
        "    self.has_attack_process = True\n",
        "    self.node_attack_times = node_attack_times\n",
        "    return self\n",
        "\n",
        "\n",
        "  ########################## prepair events ##########################\n",
        "\n",
        "\n",
        "  def create_entrance_events(self):\n",
        "    n = len(self.orig_G.nodes())\n",
        "    nodes = list(self.orig_G.nodes())\n",
        "    self.sim_G = nx.Graph()\n",
        "    \n",
        "    ### later, move to init part\n",
        "    if len(self.node_entrance_times) != n:\n",
        "      raise ValueError('!!! len(node_entrance_times) & len(G.nodes) not the same !!!')\n",
        "    ###\n",
        "\n",
        "    # dunno how nx handles it, guess set might be faster\n",
        "    sim_G_nodes = set()\n",
        "    for i in range(n):\n",
        "      node = nodes[i]\n",
        "      sim_G_nodes.add(node)\n",
        "      neighbors = set.intersection(set(nbr for nbr in self.orig_G.neighbors(i)), sim_G_nodes)\n",
        "      e = NodeEntranceEvent(self.node_entrance_times[i], node, neighbors)\n",
        "      self.events.append(e)\n",
        "\n",
        "  def create_onoff_events(self):\n",
        "    pass ### TODO: create + add to self.events\n",
        "\n",
        "  def create_death_events(self):\n",
        "    pass ### TODO: create + add to self.events\n",
        "\n",
        "  def create_attack_events(self):\n",
        "    ##########\n",
        "    # r = self.attack_time_generator(**self.attack_time_generator_args_dict)\n",
        "    # print('attack:', r)\n",
        "    ##########\n",
        "    pass ### TODO: create + add to self.events\n",
        "\n",
        "  def prepair_events(self):\n",
        "    if self.has_entrance_process:\n",
        "      self.create_entrance_events()\n",
        "\n",
        "    if self.has_onoff_process:\n",
        "      self.create_onoff_events()\n",
        "\n",
        "    if self.has_node_lifespan:\n",
        "      self.create_death_events()\n",
        "\n",
        "    if self.has_attack_process:\n",
        "      self.create_attack_events()\n",
        "\n",
        "    ### TODO: heapify events\n",
        "\n",
        "\n",
        "  ########################## run ##########################\n",
        "\n",
        "\n",
        "  def run(self):\n",
        "    self.prepair_events()\n",
        "    sim_time = 0\n",
        "    \n",
        "    ###\n",
        "    print(self.events)\n",
        "    ###\n",
        "    \n",
        "    # while len(self.events) > 0:\n",
        "      # e = min of \"events heap\"\n",
        "      # e.execute()\n",
        "      # sim_time = e.time\n",
        "\n",
        "      # handle history/snapshot\n",
        "      # pass\n",
        "\n",
        "\n"
      ],
      "metadata": {
        "id": "J7NEifA7-Sl6"
      },
      "execution_count": 29,
      "outputs": []
    }
  ]
}