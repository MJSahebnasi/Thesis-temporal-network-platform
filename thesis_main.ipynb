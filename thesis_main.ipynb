{
  "nbformat": 4,
  "nbformat_minor": 0,
  "metadata": {
    "colab": {
      "provenance": [],
      "authorship_tag": "ABX9TyNGBVdaQd6bP+SHLCApXg8z",
      "include_colab_link": true
    },
    "kernelspec": {
      "name": "python3",
      "display_name": "Python 3"
    },
    "language_info": {
      "name": "python"
    }
  },
  "cells": [
    {
      "cell_type": "markdown",
      "metadata": {
        "id": "view-in-github",
        "colab_type": "text"
      },
      "source": [
        "<a href=\"https://colab.research.google.com/github/MJSahebnasi/temporal-network-platform/blob/main/thesis_main.ipynb\" target=\"_parent\"><img src=\"https://colab.research.google.com/assets/colab-badge.svg\" alt=\"Open In Colab\"/></a>"
      ]
    },
    {
      "cell_type": "code",
      "execution_count": 4,
      "metadata": {
        "id": "9zNMJeUhDjV-"
      },
      "outputs": [],
      "source": [
        "import networkx as nx\n",
        "\n",
        "from typing import List, Type"
      ]
    },
    {
      "cell_type": "markdown",
      "source": [
        "# **Model**"
      ],
      "metadata": {
        "id": "ekIH6Hut-NED"
      }
    },
    {
      "cell_type": "markdown",
      "source": [
        "## Events"
      ],
      "metadata": {
        "id": "EYniFiteDFk0"
      }
    },
    {
      "cell_type": "code",
      "source": [
        "class Event:\n",
        "  def __init__(self, t) -> None:\n",
        "    self.time = t\n",
        "\n",
        "class NodeEvent(Event):\n",
        "  def __init__(self, t, node) -> None:\n",
        "    super().__init__(self, t)\n",
        "    self.node = node\n",
        "\n",
        "class NodeEntranceEvent(NodeEvent):\n",
        "  def __init__(self, t, node, neighbors) -> None:\n",
        "    super().__init__(self, t, node)\n",
        "    self.neighbors = neighbors\n",
        "\n",
        "  # need id (or other info) for edges?\n",
        "\n",
        "class NodeNaturalDeathEvent(NodeEvent):\n",
        "  def __init__(self, t, node) -> None:\n",
        "    super().__init__(self, t, node)\n",
        "\n",
        "class NodeAttackEvent(NodeEvent):\n",
        "  def __init__(self, t, node) -> None:\n",
        "    super().__init__(self, t, node)\n",
        "\n",
        "class NodeOnEvent(NodeEvent):\n",
        "  def __init__(self, t, node) -> None:\n",
        "    super().__init__(self, t, node)\n",
        "\n",
        "class NodeOffEvent(NodeEvent):\n",
        "  def __init__(self, t, node) -> None:\n",
        "    super().__init__(self, t, node)\n"
      ],
      "metadata": {
        "id": "scw2P57U-uY9"
      },
      "execution_count": 5,
      "outputs": []
    },
    {
      "cell_type": "markdown",
      "source": [
        "## Simulation"
      ],
      "metadata": {
        "id": "l3FTu9EKDK5A"
      }
    },
    {
      "cell_type": "code",
      "source": [
        "class Simulation:\n",
        "  \n",
        "  def __init__(self, G, duration) -> None:\n",
        "    self.G = G\n",
        "    self.duration = duration\n",
        "\n",
        "    self.has_entrance_process = False\n",
        "    self.entrance_process_duration = None\n",
        "    self.entrance_time_generator = None\n",
        "    # self.node_time_pairs = None\n",
        "\n",
        "    self.has_onoff_process = False\n",
        "    self.onoff_process_duration = None\n",
        "    self.on_time_generator = None\n",
        "    self.off_time_generator = None\n",
        "    # self.node_onoff_times_arrays\n",
        "\n",
        "    self.has_node_lifespan = False\n",
        "    self.lifespan_generator = None\n",
        "    # self.node_lifespan_pairs = None\n",
        "\n",
        "    self.has_attack_process = False\n",
        "    self.attack_time_generator = None\n",
        "    # self.attack_time_node_pairs = None\n",
        "\n",
        "  def create(self, G, simulation_duration):\n",
        "    self.__init__(G, simulation_duration)\n",
        "    return self\n",
        "\n",
        "  def with_entrance_process(self, entrance_process_duration, entrance_time_generator):\n",
        "    ### TODO: parameter validation ###\n",
        "    self.has_entrance_process = True\n",
        "    self.entrance_process_duration = entrance_process_duration\n",
        "    self.entrance_time_generator = entrance_time_generator\n",
        "    return self\n",
        "\n",
        "  def with_node_onoff_process(self, onoff_process_duration, on_time_generator, off_time_generator):\n",
        "    ### TODO: parameter validation ###\n",
        "    self.has_onoff_process = True\n",
        "    self.onoff_process_duration = onoff_process_duration\n",
        "    self.on_time_generator = on_time_generator\n",
        "    self.off_time_generator = off_time_generator\n",
        "    return self\n",
        "\n",
        "  def with_node_lifespans(self, lifespan_generator):\n",
        "    ### TODO: parameter validation ###\n",
        "    self.has_node_lifespan = True\n",
        "    self.lifespan_generator = lifespan_generator\n",
        "    return self\n",
        "\n",
        "  def with_attack_process(self, attack_time_generator):\n",
        "    ### TODO: parameter validation ###\n",
        "    self.has_attack_process = True\n",
        "    self.attack_time_generator = attack_time_generator\n",
        "    return self\n",
        "  "
      ],
      "metadata": {
        "id": "J7NEifA7-Sl6"
      },
      "execution_count": 20,
      "outputs": []
    },
    {
      "cell_type": "code",
      "source": [
        "s = Simulation().create('G', 100)"
      ],
      "metadata": {
        "id": "vXjcnZ5xyThV",
        "outputId": "04a756a0-0ea2-4702-a0af-cb8104c3060c",
        "colab": {
          "base_uri": "https://localhost:8080/",
          "height": 165
        }
      },
      "execution_count": 22,
      "outputs": [
        {
          "output_type": "error",
          "ename": "TypeError",
          "evalue": "ignored",
          "traceback": [
            "\u001b[0;31m---------------------------------------------------------------------------\u001b[0m",
            "\u001b[0;31mTypeError\u001b[0m                                 Traceback (most recent call last)",
            "\u001b[0;32m<ipython-input-22-2e6856abd6b6>\u001b[0m in \u001b[0;36m<module>\u001b[0;34m\u001b[0m\n\u001b[0;32m----> 1\u001b[0;31m \u001b[0ms\u001b[0m \u001b[0;34m=\u001b[0m \u001b[0mSimulation\u001b[0m\u001b[0;34m(\u001b[0m\u001b[0;34m)\u001b[0m\u001b[0;34m.\u001b[0m\u001b[0mcreate\u001b[0m\u001b[0;34m(\u001b[0m\u001b[0;34m'G'\u001b[0m\u001b[0;34m,\u001b[0m \u001b[0;36m100\u001b[0m\u001b[0;34m)\u001b[0m\u001b[0;34m\u001b[0m\u001b[0;34m\u001b[0m\u001b[0m\n\u001b[0m",
            "\u001b[0;31mTypeError\u001b[0m: __init__() missing 2 required positional arguments: 'G' and 'duration'"
          ]
        }
      ]
    }
  ]
}