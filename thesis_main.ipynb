{
  "nbformat": 4,
  "nbformat_minor": 0,
  "metadata": {
    "colab": {
      "provenance": [],
      "authorship_tag": "ABX9TyO4jQ8fTWgG3vVOeTuPMDEf",
      "include_colab_link": true
    },
    "kernelspec": {
      "name": "python3",
      "display_name": "Python 3"
    },
    "language_info": {
      "name": "python"
    }
  },
  "cells": [
    {
      "cell_type": "markdown",
      "metadata": {
        "id": "view-in-github",
        "colab_type": "text"
      },
      "source": [
        "<a href=\"https://colab.research.google.com/github/MJSahebnasi/temporal-network-platform/blob/main/thesis_main.ipynb\" target=\"_parent\"><img src=\"https://colab.research.google.com/assets/colab-badge.svg\" alt=\"Open In Colab\"/></a>"
      ]
    },
    {
      "cell_type": "code",
      "execution_count": 11,
      "metadata": {
        "id": "9zNMJeUhDjV-"
      },
      "outputs": [],
      "source": [
        "import networkx as nx\n",
        "\n",
        "from typing import List, Type"
      ]
    },
    {
      "cell_type": "markdown",
      "source": [
        "# **Model**"
      ],
      "metadata": {
        "id": "ekIH6Hut-NED"
      }
    },
    {
      "cell_type": "markdown",
      "source": [
        "## Events"
      ],
      "metadata": {
        "id": "EYniFiteDFk0"
      }
    },
    {
      "cell_type": "code",
      "source": [
        "class Event:\n",
        "  def __init__(self, t) -> None:\n",
        "    self.time = t\n",
        "\n",
        "class NodeEvent(Event):\n",
        "  def __init__(self, t, node) -> None:\n",
        "    super().__init__(self, t)\n",
        "    self.node = node\n",
        "\n",
        "class NodeEntranceEvent(NodeEvent):\n",
        "  def __init__(self, t, node, neighbors) -> None:\n",
        "    super().__init__(self, t, node)\n",
        "    self.neighbors = neighbors\n",
        "\n",
        "  # need id (or other info) for edges?\n",
        "\n",
        "class NodeNaturalDeathEvent(NodeEvent):\n",
        "  def __init__(self, t, node) -> None:\n",
        "    super().__init__(self, t, node)\n",
        "\n",
        "class NodeAttackEvent(NodeEvent):\n",
        "  def __init__(self, t, node) -> None:\n",
        "    super().__init__(self, t, node)\n",
        "\n",
        "class NodeOnEvent(NodeEvent):\n",
        "  def __init__(self, t, node) -> None:\n",
        "    super().__init__(self, t, node)\n",
        "\n",
        "class NodeOffEvent(NodeEvent):\n",
        "  def __init__(self, t, node) -> None:\n",
        "    super().__init__(self, t, node)\n"
      ],
      "metadata": {
        "id": "scw2P57U-uY9"
      },
      "execution_count": 23,
      "outputs": []
    },
    {
      "cell_type": "markdown",
      "source": [
        "## Simulation"
      ],
      "metadata": {
        "id": "l3FTu9EKDK5A"
      }
    },
    {
      "cell_type": "code",
      "source": [
        "class Simulation:\n",
        "  \n",
        "  def __init__(self, G, duration) -> None:\n",
        "    self.G = G\n",
        "    self.duration = duration\n",
        "\n",
        "    self.has_entrance_process = False\n",
        "    self.entrance_process_duration = None\n",
        "    self.entrance_times = None\n",
        "    # or get a time_generator func?\n",
        "\n",
        "    self.has_onoff_process = False\n",
        "    self.onoff_process_duration = None\n",
        "    self.on_time_generator = None\n",
        "    self.off_time_generator = None\n",
        "\n",
        "    self.has_node_lifespan = False\n",
        "    self.node_lifespan_pairs = None\n",
        "    # OR: self.lifespan_generator = None\n",
        "\n",
        "    self.has_attack_process = False\n",
        "    self.attack_time_node_pairs = None\n",
        "    # OR: self.attack_time_generator = None"
      ],
      "metadata": {
        "id": "J7NEifA7-Sl6"
      },
      "execution_count": 24,
      "outputs": []
    }
  ]
}